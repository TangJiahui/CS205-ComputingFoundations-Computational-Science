{
 "cells": [
  {
   "cell_type": "markdown",
   "metadata": {},
   "source": [
    "## 2. Parallel Processing Architectures (25 points)"
   ]
  },
  {
   "cell_type": "markdown",
   "metadata": {},
   "source": [
    "### 2.1. Basic Concepts (5 points）\n",
    "\n",
    "For the following four statements, state if the statement is correct or incorrect, explain why, and, If you\n",
    "think it is incorrect, explain what a correct statement would be.\n",
    "1. Around 2006, Moore’s law did not hold anymore. As a consequence, larger processor\n",
    "manufacturers started to produce multi-core processors.\n",
    "2. The term power wall typically means that the maximum clock speed has been reached and that\n",
    "chips would be too hot if they were clocked at higher frequencies.\n",
    "3. New modern programming models and tools for parallel computing enables the parallel\n",
    "implementation of any algorithm.\n",
    "4. Before multi-core CPUs, shared-memory parallel processing was basically not possible"
   ]
  },
  {
   "cell_type": "markdown",
   "metadata": {},
   "source": [
    "#### By Jiahui Tang"
   ]
  },
  {
   "cell_type": "markdown",
   "metadata": {},
   "source": [
    "> * 1. **False.** If we only look at the second sentence, it would be True statement. When the single core CPU is no longer able to increase performance, multi-core could put several CPUs together to speed up computation power. Larger processor manufacturer then started to produce those multi-core processors.\n",
    "Today's transistor has physical limitation like Quantum tunneling. It might be useful, however, in the future, to design a processor to use quantum mechanics to its advantage such as a quantum computer.\n",
    "However, for the first part of this statement, generally, 2006 would be too early to say Moore's Law didn't hold anymore.\n",
    "\n",
    "> * 2. **True.** \n",
    "In lecture, clockspeed versus power consumption graph, the power consumption is increasing sharply as clock speed goes up. The chips would be too hot and melt down if clocked at too high frequency.\n",
    "Also, searching internet, the “Power Wall” refers to the difficulty of scaling the performance of computing chips and systems at historical levels, because of fundamental constraints imposed by affordable power delivery and dissipation. \n",
    "\n",
    "\n",
    "> * 3. **False.** Many algorithm can only be serialized, where every step depends on the previous step, which cannot be parallelld. For example, dynamic programming that every step's status depends on previous steps cannot be parallelised.\n",
    "Another example is Block cipher's operation mode, where blocks are numbered sequentially, which cannot be parallelized. Thus it is false that parallel implementation could be implemented by any algorithm\n",
    "\n",
    "\n",
    "> * 4. **False.** Shared-memory parallel processing could be acheived even before multi-core CPU. For example, Multi CPUs and chips on the same board and computer; or a motherboard that installs both a CPU and a GPU, could be a form of shared memory, where they both could read/access/write memory. All of those are done before multi-core CPUs.\n"
   ]
  },
  {
   "cell_type": "code",
   "execution_count": null,
   "metadata": {},
   "outputs": [],
   "source": []
  }
 ],
 "metadata": {
  "kernelspec": {
   "display_name": "Python 3",
   "language": "python",
   "name": "python3"
  },
  "language_info": {
   "codemirror_mode": {
    "name": "ipython",
    "version": 3
   },
   "file_extension": ".py",
   "mimetype": "text/x-python",
   "name": "python",
   "nbconvert_exporter": "python",
   "pygments_lexer": "ipython3",
   "version": "3.8.2"
  }
 },
 "nbformat": 4,
 "nbformat_minor": 4
}
