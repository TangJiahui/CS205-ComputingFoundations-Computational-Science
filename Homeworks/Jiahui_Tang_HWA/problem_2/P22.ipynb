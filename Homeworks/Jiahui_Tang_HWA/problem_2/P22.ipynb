{
 "cells": [
  {
   "cell_type": "markdown",
   "metadata": {},
   "source": [
    "### 2.2. Superscalar Processors (10 points)\n",
    "Modern CPUs contain multiple cores and each core has multiple copies of the same physical resources,\n",
    "such as execution units, issue control or data paths. This allows the execution of more than 1\n",
    "instruction per core and CPU cycle. For example, the new Intel(R) Core(TM) i9-7900X CPU contains 10\n",
    "cores, where each core allows the execution of 2 simultaneous threads. Its CPU Core Pipeline\n",
    "functionality is based on the Skylake Microarchitecture with a 6-wide superscalar design per thread\n",
    "able to execute 6 floating point operations per cycle . Please give a brief explanation of each answer.\n",
    "1. Calculate the theoretical peak performance (in FLOPS – floating point operations per second) of an\n",
    "Intel(R) Core(TM) i9-7900X processor, having a clock frequency of 3.3 GHz.\n",
    "2. What would be the theoretical execution time (in seconds), on the machine described previously, of\n",
    "calculating the dot products of two full nxn matrices, one having 10 4 x 10 4 elements, represented as\n",
    "floating point numbers with single precision?\n",
    "3. Consider this processor running at 3.3 GHz. Assume that the average CPI (clock cycles per\n",
    "instruction) is 1. Assume that 10% of all instructions are stores, and that each store writes 8 bytes\n",
    "of data. How many processors will a 800-GB/s bus be able to support without becoming saturated?"
   ]
  },
  {
   "cell_type": "markdown",
   "metadata": {},
   "source": [
    "#### By Jiahui Tang"
   ]
  },
  {
   "cell_type": "markdown",
   "metadata": {},
   "source": [
    "(1) \n",
    "\n",
    "* 1 cpu contains 10 cores;\n",
    "\n",
    "* 1 core allows 2 threads;\n",
    "    \n",
    "* 1 thread 6 flops per cycle;\n",
    "    \n",
    "* Clock Frequency 3.3 GHZ/second;\n",
    "\n",
    "Thus we have \n",
    "$3.3*10*2*6 = 396$ GFLOPS/sec as the theoretical peak performance of this intel(R) Core(TM) i9-7900X processor.\n",
    "\n",
    "(2) dot products of two full $n*n$ matrics: \n",
    "\n",
    "For each element in the new $n*n$ matrix, it requires $n$ product + $(n-1)$ addition\n",
    "\n",
    "Thus in total it requires computations of $$n^2*(2n-1)=2n^3-n^2$$\n",
    "\n",
    "and we have $$n = 10^4$$\n",
    "\n",
    "It requires approximately $= 2n^3-n^2 = 2 * 10^{12} - 10^8$ operations\n",
    "\n",
    "Thus, in total, the theoretical execution time is \n",
    "$$\\frac{2*10^{12}-10^8}{396*10^9} = 5.0503$$ seconds\n",
    "\n",
    "(3) \n",
    "For the bus, the problem clearly stated it stores 8 bytes/instruction (regardless of it's AVX store or normal store)\n",
    "\n",
    "Thus we have \n",
    "$$\\frac{800}{8} = 100 G $$ store instructions/sec\n",
    "\n",
    "We could have \n",
    "$$\\frac{100}{10\\%} = 1000 G $$ instruction/sec at maximum for not becoming saturated.\n",
    "\n",
    "As the i9 processor has $$3.3ghz*10*2 = 66G$$ instructions/sec\n",
    "\n",
    "*(Note: doesn't need to multiply 6 here, as 6 is floating point operation but not instruction)*\n",
    "\n",
    "We could support at maxium\n",
    "$$1000G/66G =15.15$$ --> we can only support 15  Intel(R) Core(TM) i9-7900X CPU processors but not 16 for not being saturated"
   ]
  },
  {
   "cell_type": "code",
   "execution_count": null,
   "metadata": {},
   "outputs": [],
   "source": []
  }
 ],
 "metadata": {
  "kernelspec": {
   "display_name": "Python 3",
   "language": "python",
   "name": "python3"
  },
  "language_info": {
   "codemirror_mode": {
    "name": "ipython",
    "version": 3
   },
   "file_extension": ".py",
   "mimetype": "text/x-python",
   "name": "python",
   "nbconvert_exporter": "python",
   "pygments_lexer": "ipython3",
   "version": "3.8.2"
  }
 },
 "nbformat": 4,
 "nbformat_minor": 4
}
